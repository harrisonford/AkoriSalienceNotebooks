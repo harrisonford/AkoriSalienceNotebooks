{
 "cells": [
  {
   "cell_type": "markdown",
   "metadata": {
    "collapsed": true
   },
   "source": [
    "# Akori Mosaic Experiment Results"
   ]
  },
  {
   "cell_type": "markdown",
   "metadata": {},
   "source": [
    "## Contents\n",
    "* [Introduction](#intro)\n",
    "* [Mosaic rate](#mosaic_rate)"
   ]
  },
  {
   "cell_type": "markdown",
   "metadata": {},
   "source": [
    "<a id='intro'></a>\n",
    "## Introduction\n",
    "\n",
    "I make graphs, as correction material for the publication without explaining why I do this stuff."
   ]
  },
  {
   "cell_type": "markdown",
   "metadata": {},
   "source": [
    "<a id='mosaic_rate'></a>\n",
    "## Mosaic rate\n",
    "\n",
    "Calculate the mosaic change rate over time. Subjects could have a behavioural bias to move faster or slower over time."
   ]
  },
  {
   "cell_type": "code",
   "execution_count": null,
   "metadata": {},
   "outputs": [],
   "source": [
    "import scripts.data_loader as load\n",
    "import matplotlib.pyplot as plt\n",
    "import numpy as np\n",
    "import scripts.qol as qol\n",
    "import statsmodels.api as sm\n",
    "from statsmodels.formula.api import ols\n",
    "import pandas as pd\n",
    "%matplotlib inline\n",
    "plt.rcParams['figure.dpi'] = 100  # image quality\n",
    "\n",
    "# make a list of subjects: \"pup01.json\", \"pup02.json\", ..., \"pup28.json\"\n",
    "bucket = \"processed_mosaic_experimental_data\"\n",
    "dataset_dir = [\"pup\"+str(num+1).zfill(2)+\".json\" for num in range(28)] \n",
    "\n",
    "# for every image we calculate in a time window how many times subject travels to a mosaic\n",
    "mosaic_time = 12000  # 12 seconds\n",
    "window = 2000\n",
    "images = 84\n",
    "steps = range(0, mosaic_time, window)\n",
    "\n",
    "object_rate = np.zeros((len(dataset_dir), len(steps)), dtype=float)\n",
    "for i_subject, subject in enumerate(dataset_dir):\n",
    "    subject_fixations = load.fixtimes(subject, bucket)  # loads |t_on|t_off|image|object|\n",
    "    \n",
    "    subject_object_rate = np.zeros(len(steps))\n",
    "    # TODO: for now we use t0 == t_on(0) but it's not exact \n",
    "    for image in range(images):  # we make (t_on-t0, object) array f/e image\n",
    "        \n",
    "        subfix = []\n",
    "        for a_fix in subject_fixations:\n",
    "            if a_fix[2] == image+1:\n",
    "                subfix.append([a_fix[0], a_fix[3]])\n",
    "        subfix = np.array(subfix)\n",
    "        # make first fixation start at 0\n",
    "        t0 = subfix[0, 0]\n",
    "        for i in range(len(subfix)):\n",
    "            subfix[i, 0] = subfix[i, 0] - t0\n",
    "        \n",
    "        # now calculate \"transition rate\" \n",
    "        image_object_rate = np.zeros(len(steps), dtype=float)\n",
    "        current_object = subfix[0, 1]\n",
    "        \n",
    "        # we count an object change as a transition and add it to the step window\n",
    "        for a_fix in subfix:\n",
    "            if a_fix[1] != current_object:\n",
    "                step_index = int(a_fix[0] / window)\n",
    "                image_object_rate[step_index] = image_object_rate[step_index] + 1.0\n",
    "                current_object = a_fix[1]\n",
    "        \n",
    "        # finally add the image rate to the total for the subject\n",
    "        subject_object_rate += image_object_rate\n",
    "    \n",
    "    # we added all the image rates so now we divide by total and add it to the grand matrix\n",
    "    subject_object_rate /= images\n",
    "    object_rate[i_subject, :] = subject_object_rate\n",
    "    \n",
    "# Now that we have transition rates for every subject we can calculate average signal\n",
    "grand_average = object_rate.mean(axis=0)\n",
    "grand_std = object_rate.std(axis=0)\n",
    "\n",
    "# Let's calculate ANOVA to check if means from each step are different or not\n",
    "# first, we flatten the matrix making their time window be the 'group' they belong to (for anova module)\n",
    "rates = [rate.tolist() for rate in np.nditer(object_rate)]\n",
    "window = [str(val % len(object_rate[1, :])) for val in range(len(object_rate[:, 1]) * len(object_rate[1, :]))]\n",
    "\n",
    "# transform to pandas Dataframe\n",
    "data = {'rates': rates, 'window': window}\n",
    "df = pd.DataFrame(data=data)\n",
    "\n",
    "# now do the damn APA table using: https://www.marsja.se/four-ways-to-conduct-one-way-anovas-using-python/\n",
    "mod = ols('rates ~ window', data=df).fit()\n",
    "aov_table = sm.stats.anova_lm(mod, typ=2)\n",
    "print(aov_table)\n",
    "\n",
    "# calculate eta squared\n",
    "esq_sm = aov_table['sum_sq'][0]/(aov_table['sum_sq'][0] + aov_table['sum_sq'][1])\n",
    "print(\"eta squared = \" + str(esq_sm))\n",
    "\n",
    "# Let's plot!\n",
    "plt.style.use(\"grayscale\")\n",
    "fig, ax = plt.subplots()\n",
    "rect = ax.bar(steps, grand_average, yerr=grand_std, width=1000)\n",
    "ax.set_xlabel('Mosaic time window [milliseconds]')\n",
    "ax.set_ylabel('Rate [count]')\n",
    "ax.set_title('Transition count for a time-window during image exploration')\n",
    "\n",
    "plt.tight_layout()\n",
    "plt.show()"
   ]
  }
 ],
 "metadata": {
  "kernelspec": {
   "display_name": "Python 2",
   "language": "python",
   "name": "python2"
  },
  "language_info": {
   "codemirror_mode": {
    "name": "ipython",
    "version": 2
   },
   "file_extension": ".py",
   "mimetype": "text/x-python",
   "name": "python",
   "nbconvert_exporter": "python",
   "pygments_lexer": "ipython2",
   "version": "2.7.6"
  }
 },
 "nbformat": 4,
 "nbformat_minor": 0
}
